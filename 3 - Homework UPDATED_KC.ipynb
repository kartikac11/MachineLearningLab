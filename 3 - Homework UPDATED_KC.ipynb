{
 "cells": [
  {
   "cell_type": "code",
   "execution_count": 1,
   "id": "55621e94",
   "metadata": {},
   "outputs": [],
   "source": [
    "import pandas as pd\n",
    "import pandas as pd\n",
    "import numpy as np\n",
    "import matplotlib.pyplot as plt"
   ]
  },
  {
   "cell_type": "markdown",
   "id": "a055ebb7",
   "metadata": {},
   "source": [
    "# 1.) Clean the Apple Data to get a quarterly series of EPS."
   ]
  },
  {
   "cell_type": "code",
   "execution_count": 2,
   "id": "365b253b",
   "metadata": {},
   "outputs": [],
   "source": [
    "y = pd.read_csv(\"C:\\\\Users\\\\HP Pavilion 13\\\\ML Lab\\\\Week3 Class Work\\\\AAPL_quarterly_financials.csv\")"
   ]
  },
  {
   "cell_type": "code",
   "execution_count": 3,
   "id": "8932850f",
   "metadata": {},
   "outputs": [],
   "source": [
    "y.index = y.name"
   ]
  },
  {
   "cell_type": "code",
   "execution_count": 4,
   "id": "449862e7",
   "metadata": {},
   "outputs": [],
   "source": [
    "y = pd.DataFrame(y.loc[\"BasicEPS\", :]).iloc[2:,:]"
   ]
  },
  {
   "cell_type": "code",
   "execution_count": 5,
   "id": "c39e6c1d",
   "metadata": {},
   "outputs": [],
   "source": [
    "y.index = pd.to_datetime(y.index)"
   ]
  },
  {
   "cell_type": "code",
   "execution_count": 6,
   "id": "15452f18",
   "metadata": {},
   "outputs": [],
   "source": [
    "# CHECK IF NAS ARE NO DIVIDEND PERIOD\n",
    "y = y.sort_index().fillna(0.)"
   ]
  },
  {
   "cell_type": "markdown",
   "id": "f660ca3c",
   "metadata": {},
   "source": [
    "# 2.) Come up with 6 search terms you think could nowcast earnings. (Different than the ones I used) Add in 3 terms that that you think will not Nowcast earnings. Pull in the gtrends data"
   ]
  },
  {
   "cell_type": "code",
   "execution_count": 7,
   "id": "101a8370",
   "metadata": {},
   "outputs": [],
   "source": [
    "from pytrends.request import TrendReq"
   ]
  },
  {
   "cell_type": "code",
   "execution_count": 8,
   "id": "715787dd",
   "metadata": {},
   "outputs": [],
   "source": [
    "# Create pytrends object\n",
    "pytrends = TrendReq(hl='en-US', tz=360)\n",
    "\n",
    "# Set up the keywords and the timeframe\n",
    "keywords = [\"Macbook\", \"AppStore\", \"interest rate\", \"recession\", \"discount\", \"innovation\", \"Barbie\", \"storm\", \"Trump\"]  # Add your keywords here\n",
    "start_date = '2004-01-01'\n",
    "end_date = '2024-01-01'\n",
    "\n",
    "# Create an empty DataFrame to store the results\n",
    "df = pd.DataFrame()\n",
    "\n",
    "# Iterate through keywords and fetch data\n",
    "for keyword in keywords:\n",
    "    pytrends.build_payload([keyword], cat=0, timeframe=f'{start_date} {end_date}', geo='', gprop='')\n",
    "    interest_over_time_df = pytrends.interest_over_time()\n",
    "    df[keyword] = interest_over_time_df[keyword]"
   ]
  },
  {
   "cell_type": "code",
   "execution_count": 9,
   "id": "22bbb744",
   "metadata": {},
   "outputs": [],
   "source": [
    "X = df = df.resample(\"Q\").mean()"
   ]
  },
  {
   "cell_type": "code",
   "execution_count": 10,
   "id": "c925f043",
   "metadata": {},
   "outputs": [],
   "source": [
    "# ALIGN DATA\n",
    "temp = pd.concat([y, X],axis = 1).dropna()\n",
    "y = temp[[\"BasicEPS\"]].copy()\n",
    "X = temp.iloc[:,1:].copy()"
   ]
  },
  {
   "cell_type": "code",
   "execution_count": 11,
   "id": "b1eb92d5",
   "metadata": {},
   "outputs": [
    {
     "data": {
      "text/html": [
       "<div>\n",
       "<style scoped>\n",
       "    .dataframe tbody tr th:only-of-type {\n",
       "        vertical-align: middle;\n",
       "    }\n",
       "\n",
       "    .dataframe tbody tr th {\n",
       "        vertical-align: top;\n",
       "    }\n",
       "\n",
       "    .dataframe thead th {\n",
       "        text-align: right;\n",
       "    }\n",
       "</style>\n",
       "<table border=\"1\" class=\"dataframe\">\n",
       "  <thead>\n",
       "    <tr style=\"text-align: right;\">\n",
       "      <th></th>\n",
       "      <th>Macbook</th>\n",
       "      <th>AppStore</th>\n",
       "      <th>interest rate</th>\n",
       "      <th>recession</th>\n",
       "      <th>discount</th>\n",
       "      <th>innovation</th>\n",
       "      <th>Barbie</th>\n",
       "      <th>storm</th>\n",
       "      <th>Trump</th>\n",
       "    </tr>\n",
       "  </thead>\n",
       "  <tbody>\n",
       "    <tr>\n",
       "      <th>2004-03-31</th>\n",
       "      <td>0.0</td>\n",
       "      <td>0.000000</td>\n",
       "      <td>38.333333</td>\n",
       "      <td>7.666667</td>\n",
       "      <td>92.000000</td>\n",
       "      <td>90.000000</td>\n",
       "      <td>15.333333</td>\n",
       "      <td>47.000000</td>\n",
       "      <td>1.666667</td>\n",
       "    </tr>\n",
       "    <tr>\n",
       "      <th>2004-06-30</th>\n",
       "      <td>0.0</td>\n",
       "      <td>0.666667</td>\n",
       "      <td>41.666667</td>\n",
       "      <td>8.000000</td>\n",
       "      <td>87.666667</td>\n",
       "      <td>85.333333</td>\n",
       "      <td>14.333333</td>\n",
       "      <td>43.333333</td>\n",
       "      <td>1.666667</td>\n",
       "    </tr>\n",
       "    <tr>\n",
       "      <th>2004-09-30</th>\n",
       "      <td>0.0</td>\n",
       "      <td>0.333333</td>\n",
       "      <td>35.666667</td>\n",
       "      <td>6.666667</td>\n",
       "      <td>90.000000</td>\n",
       "      <td>77.333333</td>\n",
       "      <td>17.000000</td>\n",
       "      <td>60.000000</td>\n",
       "      <td>1.000000</td>\n",
       "    </tr>\n",
       "    <tr>\n",
       "      <th>2004-12-31</th>\n",
       "      <td>0.0</td>\n",
       "      <td>0.000000</td>\n",
       "      <td>33.333333</td>\n",
       "      <td>7.666667</td>\n",
       "      <td>85.666667</td>\n",
       "      <td>80.000000</td>\n",
       "      <td>20.333333</td>\n",
       "      <td>41.000000</td>\n",
       "      <td>1.333333</td>\n",
       "    </tr>\n",
       "    <tr>\n",
       "      <th>2005-03-31</th>\n",
       "      <td>0.0</td>\n",
       "      <td>0.000000</td>\n",
       "      <td>33.000000</td>\n",
       "      <td>6.333333</td>\n",
       "      <td>79.666667</td>\n",
       "      <td>80.666667</td>\n",
       "      <td>18.333333</td>\n",
       "      <td>37.000000</td>\n",
       "      <td>1.333333</td>\n",
       "    </tr>\n",
       "  </tbody>\n",
       "</table>\n",
       "</div>"
      ],
      "text/plain": [
       "            Macbook  AppStore  interest rate  recession   discount  \\\n",
       "2004-03-31      0.0  0.000000      38.333333   7.666667  92.000000   \n",
       "2004-06-30      0.0  0.666667      41.666667   8.000000  87.666667   \n",
       "2004-09-30      0.0  0.333333      35.666667   6.666667  90.000000   \n",
       "2004-12-31      0.0  0.000000      33.333333   7.666667  85.666667   \n",
       "2005-03-31      0.0  0.000000      33.000000   6.333333  79.666667   \n",
       "\n",
       "            innovation     Barbie      storm     Trump  \n",
       "2004-03-31   90.000000  15.333333  47.000000  1.666667  \n",
       "2004-06-30   85.333333  14.333333  43.333333  1.666667  \n",
       "2004-09-30   77.333333  17.000000  60.000000  1.000000  \n",
       "2004-12-31   80.000000  20.333333  41.000000  1.333333  \n",
       "2005-03-31   80.666667  18.333333  37.000000  1.333333  "
      ]
     },
     "execution_count": 11,
     "metadata": {},
     "output_type": "execute_result"
    }
   ],
   "source": [
    "X.head()"
   ]
  },
  {
   "cell_type": "markdown",
   "id": "863d55e4",
   "metadata": {},
   "source": [
    "# 3.) Normalize all the X data"
   ]
  },
  {
   "cell_type": "code",
   "execution_count": 12,
   "id": "8325a0f4",
   "metadata": {},
   "outputs": [],
   "source": [
    "from sklearn.preprocessing import StandardScaler"
   ]
  },
  {
   "cell_type": "code",
   "execution_count": 13,
   "id": "bc2504ab",
   "metadata": {},
   "outputs": [],
   "source": [
    "scaler = StandardScaler()"
   ]
  },
  {
   "cell_type": "code",
   "execution_count": 14,
   "id": "b22bc897",
   "metadata": {},
   "outputs": [],
   "source": [
    "X_scaled=scaler.fit_transform(X)"
   ]
  },
  {
   "cell_type": "markdown",
   "id": "925f79f5",
   "metadata": {},
   "source": [
    "# 4.) Run a Lasso with lambda of .5. Plot a bar chart."
   ]
  },
  {
   "cell_type": "code",
   "execution_count": 15,
   "id": "d829a004",
   "metadata": {},
   "outputs": [],
   "source": [
    "from sklearn.linear_model import Lasso"
   ]
  },
  {
   "cell_type": "code",
   "execution_count": 16,
   "id": "5e19efe6",
   "metadata": {},
   "outputs": [],
   "source": [
    "lasso=Lasso(alpha=.005)"
   ]
  },
  {
   "cell_type": "code",
   "execution_count": 17,
   "id": "ec86dbde",
   "metadata": {},
   "outputs": [
    {
     "data": {
      "text/plain": [
       "Lasso(alpha=0.005)"
      ]
     },
     "execution_count": 17,
     "metadata": {},
     "output_type": "execute_result"
    }
   ],
   "source": [
    "lasso.fit(X_scaled, y)"
   ]
  },
  {
   "cell_type": "code",
   "execution_count": 18,
   "id": "fd87f09b",
   "metadata": {},
   "outputs": [],
   "source": [
    "coefficients = lasso.coef_"
   ]
  },
  {
   "cell_type": "code",
   "execution_count": 19,
   "id": "c6ebd1d7",
   "metadata": {},
   "outputs": [
    {
     "data": {
      "text/plain": [
       "array([ 0.1970638 ,  0.02990508,  0.35351616, -0.12625743,  0.00678422,\n",
       "       -0.01841556, -0.06386243, -0.        , -0.00481873])"
      ]
     },
     "execution_count": 19,
     "metadata": {},
     "output_type": "execute_result"
    }
   ],
   "source": [
    "coefficients"
   ]
  },
  {
   "cell_type": "code",
   "execution_count": 20,
   "id": "82e42bb6",
   "metadata": {},
   "outputs": [
    {
     "data": {
      "text/plain": [
       "Index(['Macbook', 'AppStore', 'interest rate', 'recession', 'discount',\n",
       "       'innovation', 'Barbie', 'storm', 'Trump'],\n",
       "      dtype='object')"
      ]
     },
     "execution_count": 20,
     "metadata": {},
     "output_type": "execute_result"
    }
   ],
   "source": [
    "X.columns"
   ]
  },
  {
   "cell_type": "code",
   "execution_count": 22,
   "id": "00533251",
   "metadata": {},
   "outputs": [
    {
     "data": {
      "image/png": "[encoded data removed]",
      "text/plain": [
       "<Figure size 864x576 with 1 Axes>"
      ]
     },
     "metadata": {
      "needs_background": "light"
     },
     "output_type": "display_data"
    }
   ],
   "source": [
    "plt.figure(figsize = (12,8))\n",
    "plt.bar(range(X_scaled.shape[1]), coefficients)\n",
    "plt.xticks(range(len(coefficients)), X.columns)\n",
    "plt.axhline(0, color = \"red\")\n",
    "plt.xlabel('Features')\n",
    "plt.ylabel('Coefficients')\n",
    "plt.title('Lasso Coefficients')\n",
    "plt.show()"
   ]
  },
  {
   "cell_type": "markdown",
   "id": "96278b34",
   "metadata": {},
   "source": [
    "# 5.) Do these coefficient magnitudes make sense?"
   ]
  },
  {
   "cell_type": "markdown",
   "id": "6b63f42c",
   "metadata": {},
   "source": [
    "- It does not make sense that the \"interest rate\" has the highest positive coefficient because higher interest rate can potentially reduce consumer spending.\n",
    "- \"Appstore\" and \"macbook\" have positive coefficient which make sense because it directly relates to higher earnings for Apple\n",
    "- I expected \"barbie\" has coefficient equals to zero\n",
    "- It make sense that \"storm\" and \"Trump\" have coefficient equals or near to zero"
   ]
  },
  {
   "cell_type": "code",
   "execution_count": null,
   "id": "e7560947",
   "metadata": {},
   "outputs": [],
   "source": []
  },
  {
   "cell_type": "markdown",
   "id": "5ae3d8cd",
   "metadata": {},
   "source": []
  },
  {
   "cell_type": "code",
   "execution_count": null,
   "id": "7999aef1",
   "metadata": {},
   "outputs": [],
   "source": []
  },
  {
   "cell_type": "code",
   "execution_count": null,
   "id": "1c61b03e",
   "metadata": {},
   "outputs": [],
   "source": []
  },
  {
   "cell_type": "markdown",
   "id": "d73e6650",
   "metadata": {},
   "source": []
  },
  {
   "cell_type": "code",
   "execution_count": null,
   "id": "c00e08b9",
   "metadata": {},
   "outputs": [],
   "source": []
  },
  {
   "cell_type": "code",
   "execution_count": null,
   "id": "5b55f488",
   "metadata": {},
   "outputs": [],
   "source": []
  }
 ],
 "metadata": {
  "kernelspec": {
   "display_name": "Python 3 (ipykernel)",
   "language": "python",
   "name": "python3"
  },
  "language_info": {
   "codemirror_mode": {
    "name": "ipython",
    "version": 3
   },
   "file_extension": ".py",
   "mimetype": "text/x-python",
   "name": "python",
   "nbconvert_exporter": "python",
   "pygments_lexer": "ipython3",
   "version": "3.9.12"
  }
 },
 "nbformat": 4,
 "nbformat_minor": 5
}
