{
 "cells": [
  {
   "cell_type": "code",
   "execution_count": 26,
   "metadata": {
    "colab": {
     "base_uri": "https://localhost:8080/"
    },
    "id": "N11Ee3GJmywu",
    "outputId": "64e10b54-dad3-48e2-c266-617670a17e82"
   },
   "outputs": [
    {
     "name": "stdout",
     "output_type": "stream",
     "text": [
      "Requirement already satisfied: openai in c:\\users\\hp pavilion 13\\anaconda3\\lib\\site-packages (0.28.0)\n",
      "Requirement already satisfied: wikipedia in c:\\users\\hp pavilion 13\\anaconda3\\lib\\site-packages (1.4.0)\n",
      "Requirement already satisfied: requests>=2.20 in c:\\users\\hp pavilion 13\\anaconda3\\lib\\site-packages (from openai) (2.27.1)\n",
      "Requirement already satisfied: tqdm in c:\\users\\hp pavilion 13\\anaconda3\\lib\\site-packages (from openai) (4.64.0)\n",
      "Requirement already satisfied: aiohttp in c:\\users\\hp pavilion 13\\anaconda3\\lib\\site-packages (from openai) (3.8.1)\n",
      "Requirement already satisfied: beautifulsoup4 in c:\\users\\hp pavilion 13\\anaconda3\\lib\\site-packages (from wikipedia) (4.11.1)\n",
      "Requirement already satisfied: idna<4,>=2.5 in c:\\users\\hp pavilion 13\\anaconda3\\lib\\site-packages (from requests>=2.20->openai) (3.3)\n",
      "Requirement already satisfied: charset-normalizer~=2.0.0 in c:\\users\\hp pavilion 13\\anaconda3\\lib\\site-packages (from requests>=2.20->openai) (2.0.4)\n",
      "Requirement already satisfied: urllib3<1.27,>=1.21.1 in c:\\users\\hp pavilion 13\\anaconda3\\lib\\site-packages (from requests>=2.20->openai) (1.26.9)\n",
      "Requirement already satisfied: certifi>=2017.4.17 in c:\\users\\hp pavilion 13\\anaconda3\\lib\\site-packages (from requests>=2.20->openai) (2021.10.8)\n",
      "Requirement already satisfied: frozenlist>=1.1.1 in c:\\users\\hp pavilion 13\\anaconda3\\lib\\site-packages (from aiohttp->openai) (1.2.0)\n",
      "Requirement already satisfied: async-timeout<5.0,>=4.0.0a3 in c:\\users\\hp pavilion 13\\anaconda3\\lib\\site-packages (from aiohttp->openai) (4.0.1)\n",
      "Requirement already satisfied: yarl<2.0,>=1.0 in c:\\users\\hp pavilion 13\\anaconda3\\lib\\site-packages (from aiohttp->openai) (1.6.3)\n",
      "Requirement already satisfied: attrs>=17.3.0 in c:\\users\\hp pavilion 13\\anaconda3\\lib\\site-packages (from aiohttp->openai) (21.4.0)\n",
      "Requirement already satisfied: aiosignal>=1.1.2 in c:\\users\\hp pavilion 13\\anaconda3\\lib\\site-packages (from aiohttp->openai) (1.2.0)\n",
      "Requirement already satisfied: multidict<7.0,>=4.5 in c:\\users\\hp pavilion 13\\anaconda3\\lib\\site-packages (from aiohttp->openai) (5.1.0)\n",
      "Requirement already satisfied: typing-extensions>=3.6.5 in c:\\users\\hp pavilion 13\\anaconda3\\lib\\site-packages (from async-timeout<5.0,>=4.0.0a3->aiohttp->openai) (4.8.0)\n",
      "Requirement already satisfied: soupsieve>1.2 in c:\\users\\hp pavilion 13\\anaconda3\\lib\\site-packages (from beautifulsoup4->wikipedia) (2.3.1)\n",
      "Requirement already satisfied: colorama in c:\\users\\hp pavilion 13\\anaconda3\\lib\\site-packages (from tqdm->openai) (0.4.4)\n",
      "Note: you may need to restart the kernel to use updated packages.\n"
     ]
    }
   ],
   "source": [
    "pip install openai wikipedia"
   ]
  },
  {
   "cell_type": "code",
   "execution_count": 27,
   "metadata": {},
   "outputs": [
    {
     "name": "stdout",
     "output_type": "stream",
     "text": [
      "Requirement already satisfied: openai==0.28 in c:\\users\\hp pavilion 13\\anaconda3\\lib\\site-packages (0.28.0)\n",
      "Requirement already satisfied: aiohttp in c:\\users\\hp pavilion 13\\anaconda3\\lib\\site-packages (from openai==0.28) (3.8.1)\n",
      "Requirement already satisfied: requests>=2.20 in c:\\users\\hp pavilion 13\\anaconda3\\lib\\site-packages (from openai==0.28) (2.27.1)\n",
      "Requirement already satisfied: tqdm in c:\\users\\hp pavilion 13\\anaconda3\\lib\\site-packages (from openai==0.28) (4.64.0)\n",
      "Requirement already satisfied: certifi>=2017.4.17 in c:\\users\\hp pavilion 13\\anaconda3\\lib\\site-packages (from requests>=2.20->openai==0.28) (2021.10.8)\n",
      "Requirement already satisfied: charset-normalizer~=2.0.0 in c:\\users\\hp pavilion 13\\anaconda3\\lib\\site-packages (from requests>=2.20->openai==0.28) (2.0.4)\n",
      "Requirement already satisfied: urllib3<1.27,>=1.21.1 in c:\\users\\hp pavilion 13\\anaconda3\\lib\\site-packages (from requests>=2.20->openai==0.28) (1.26.9)\n",
      "Requirement already satisfied: idna<4,>=2.5 in c:\\users\\hp pavilion 13\\anaconda3\\lib\\site-packages (from requests>=2.20->openai==0.28) (3.3)\n",
      "Requirement already satisfied: attrs>=17.3.0 in c:\\users\\hp pavilion 13\\anaconda3\\lib\\site-packages (from aiohttp->openai==0.28) (21.4.0)\n",
      "Requirement already satisfied: yarl<2.0,>=1.0 in c:\\users\\hp pavilion 13\\anaconda3\\lib\\site-packages (from aiohttp->openai==0.28) (1.6.3)\n",
      "Requirement already satisfied: multidict<7.0,>=4.5 in c:\\users\\hp pavilion 13\\anaconda3\\lib\\site-packages (from aiohttp->openai==0.28) (5.1.0)\n",
      "Requirement already satisfied: frozenlist>=1.1.1 in c:\\users\\hp pavilion 13\\anaconda3\\lib\\site-packages (from aiohttp->openai==0.28) (1.2.0)\n",
      "Requirement already satisfied: aiosignal>=1.1.2 in c:\\users\\hp pavilion 13\\anaconda3\\lib\\site-packages (from aiohttp->openai==0.28) (1.2.0)\n",
      "Requirement already satisfied: async-timeout<5.0,>=4.0.0a3 in c:\\users\\hp pavilion 13\\anaconda3\\lib\\site-packages (from aiohttp->openai==0.28) (4.0.1)\n",
      "Requirement already satisfied: typing-extensions>=3.6.5 in c:\\users\\hp pavilion 13\\anaconda3\\lib\\site-packages (from async-timeout<5.0,>=4.0.0a3->aiohttp->openai==0.28) (4.8.0)\n",
      "Requirement already satisfied: colorama in c:\\users\\hp pavilion 13\\anaconda3\\lib\\site-packages (from tqdm->openai==0.28) (0.4.4)\n",
      "Note: you may need to restart the kernel to use updated packages.\n"
     ]
    }
   ],
   "source": [
    "pip install openai==0.28 "
   ]
  },
  {
   "cell_type": "markdown",
   "metadata": {
    "id": "7E9HEMJSX-3T"
   },
   "source": [
    "# 1.) Set up OpenAI and the enviornment\n"
   ]
  },
  {
   "cell_type": "code",
   "execution_count": 28,
   "metadata": {
    "id": "Q2A8TGhKm3i5"
   },
   "outputs": [],
   "source": [
    "import openai\n",
    "import os\n",
    "import wikipedia\n",
    "\n",
    "apikey = 'use-your-own-api-key'\n",
    "openai.api_key = apikey"
   ]
  },
  {
   "cell_type": "code",
   "execution_count": 29,
   "metadata": {
    "id": "4zwwdkZDYDZN"
   },
   "outputs": [
    {
     "data": {
      "text/plain": [
       "['APIError',\n",
       " 'Audio',\n",
       " 'Callable',\n",
       " 'ChatCompletion',\n",
       " 'Completion',\n",
       " 'ContextVar',\n",
       " 'Customer',\n",
       " 'Deployment',\n",
       " 'Edit',\n",
       " 'Embedding',\n",
       " 'Engine',\n",
       " 'ErrorObject',\n",
       " 'File',\n",
       " 'FineTune',\n",
       " 'FineTuningJob',\n",
       " 'Image',\n",
       " 'InvalidRequestError',\n",
       " 'Model',\n",
       " 'Moderation',\n",
       " 'OpenAIError',\n",
       " 'Optional',\n",
       " 'TYPE_CHECKING',\n",
       " 'Union',\n",
       " 'VERSION',\n",
       " '__all__',\n",
       " '__annotations__',\n",
       " '__builtins__',\n",
       " '__cached__',\n",
       " '__doc__',\n",
       " '__file__',\n",
       " '__loader__',\n",
       " '__name__',\n",
       " '__package__',\n",
       " '__path__',\n",
       " '__spec__',\n",
       " '__version__',\n",
       " 'aiosession',\n",
       " 'api_base',\n",
       " 'api_key',\n",
       " 'api_key_path',\n",
       " 'api_requestor',\n",
       " 'api_resources',\n",
       " 'api_type',\n",
       " 'api_version',\n",
       " 'app_info',\n",
       " 'ca_bundle_path',\n",
       " 'datalib',\n",
       " 'debug',\n",
       " 'enable_telemetry',\n",
       " 'error',\n",
       " 'log',\n",
       " 'object_classes',\n",
       " 'openai_object',\n",
       " 'openai_response',\n",
       " 'organization',\n",
       " 'os',\n",
       " 'proxy',\n",
       " 'requestssession',\n",
       " 'sys',\n",
       " 'util',\n",
       " 'verify_ssl_certs',\n",
       " 'version']"
      ]
     },
     "execution_count": 29,
     "metadata": {},
     "output_type": "execute_result"
    }
   ],
   "source": [
    "dir(openai)"
   ]
  },
  {
   "cell_type": "markdown",
   "metadata": {
    "id": "tOXc5_BTm9HP"
   },
   "source": [
    "# 2.) Use the wikipedia api to get a function that pulls in the text of a wikipedia page"
   ]
  },
  {
   "cell_type": "code",
   "execution_count": 30,
   "metadata": {},
   "outputs": [],
   "source": [
    "def get_wiki_content(page_title):\n",
    "    search_results = wikipedia.search(page_title)\n",
    "    page = wikipedia.page(search_results[0])\n",
    "    return page.content"
   ]
  },
  {
   "cell_type": "markdown",
   "metadata": {
    "id": "_9aruncMmubX"
   },
   "source": [
    "# 3.) Build a chatgpt bot that will analyze the text given and try to locate any false info"
   ]
  },
  {
   "cell_type": "code",
   "execution_count": 31,
   "metadata": {
    "id": "_TMKFGN4nDJ4"
   },
   "outputs": [],
   "source": [
    "def chatgpt_error_correction(content):\n",
    "    # Slice the content to the first 8192 characters\n",
    "    content = content[:8192]\n",
    "    \n",
    "    try:\n",
    "        response = openai.ChatCompletion.create(\n",
    "            model=\"gpt-3.5-turbo\",  # Use the correct model name for your use case.\n",
    "            messages=[\n",
    "                {\"role\": \"system\", \"content\": \"Analyze the following article content for accuracy.\"},\n",
    "                {\"role\": \"user\", \"content\": content}\n",
    "            ]\n",
    "        )\n",
    "        return response.choices[0].message.content\n",
    "    except Exception as e:\n",
    "        return str(e)"
   ]
  },
  {
   "cell_type": "markdown",
   "metadata": {
    "id": "zPw5LyPEobmk"
   },
   "source": [
    "# 4.) Make a for loop and check a few wikipedia pages and return a report of any potentially false info via wikipedia"
   ]
  },
  {
   "cell_type": "code",
   "execution_count": 32,
   "metadata": {},
   "outputs": [
    {
     "name": "stdout",
     "output_type": "stream",
     "text": [
      "Checking Artificial Intelligence\n",
      "Report for Artificial Intelligence:\n",
      "The content provided is a comprehensive overview of Artificial Intelligence (AI) and its various applications, historical background, implications on society, and key areas of research. The accuracy of the information can be confirmed through the following points:\n",
      "\n",
      "1. Definition and Scope of Artificial Intelligence: The article correctly defines AI as the intelligence exhibited by machines or software, distinct from human intelligence. It states that AI is a field in computer science that focuses on developing and studying intelligent machines. It also mentions common applications of AI technology in industry, government, and science.\n",
      "\n",
      "2. Historical Overview: The article provides an accurate historical account of the development of AI, referencing its formal establishment as an academic discipline in 1956 and the periods of enthusiasm and setbacks known as \"AI winter.\" It also notes the resurgence of interest and funding in AI following advancements in deep learning and transformer architecture in recent years.\n",
      "\n",
      "3. Impact of AI on Society: The article accurately highlights the increasing influence of AI in the 21st century, leading to automation, data-driven decision-making, and integration into various aspects of life. It correctly mentions the implications of AI on job markets, healthcare, government, industry, and education, sparking ethical discussions and the need for regulatory policies.\n",
      "\n",
      "4. Sub-Fields and Goals of AI Research: The article outlines the diverse sub-fields and overarching goals of AI research, such as reasoning, knowledge representation, planning, decision-making, and learning. It explains the challenges faced in each area and the diverse problem-solving techniques utilized in AI research, including elements from psychology, linguistics, philosophy, and other fields.\n",
      "\n",
      "5. Specific Research Areas: The article delves into specific areas of AI research like reasoning, knowledge representation, planning, decision-making, and machine learning, providing detailed explanations of the concepts and techniques involved. It discusses various forms of learning in AI, including supervised, unsupervised, and reinforcement learning.\n",
      "\n",
      "Overall, the information provided in the article accurately represents the foundational concepts, advancements, challenges, and implications of artificial intelligence.\n",
      "Checking Machine Learning\n",
      "ERROR while checking Machine Learning: Page id \"machine ;earning\" does not match any pages. Try another id!\n",
      "Checking UCLA\n",
      "Report for UCLA:\n",
      "The content provided is largely accurate in terms of the history, programs, and accomplishments of the University of California, Los Angeles (UCLA). Here are some key points for further clarification or correction:\n",
      "\n",
      "1. UCLA was not established as a normal school in 1881; its origins are traced to the California State Normal School. The school in Los Angeles was initially known as the southern branch of the California State Normal School and later evolved into UCLA. It was not transformed into San José State University, as stated in the content.\n",
      "\n",
      "2. The UCLA campus was indeed established in 1919 as the Southern Branch of the University of California, not as a branch of San José State University, as incorrectly mentioned in the content.\n",
      "\n",
      "3. UCLA is formally known as the University of California, Los Angeles, not the University of California at Los Angeles, as mentioned in the content.\n",
      "\n",
      "4. The content accurately highlights UCLA's academic offerings, student demographics, and prominent achievements, such as its success in sports, academic accolades, and representation in the Olympics.\n",
      "\n",
      "5. The detailed history section provides a thorough account of UCLA's development from its establishment to its growth as a distinguished university, including the evolution of its academic programs and campus location changes.\n",
      "\n",
      "6. The recent history section includes some incidents, such as the murder-suicide in an engineering building and a former lecturer's arrest for threats of violence, which are accurate but should be considered as isolated events rather than reflective of the university as a whole.\n",
      "\n",
      "7. The section referencing sexual harassment scandals involving a graduate student adviser and professor at UCLA is accurate but would benefit from further detail and context to understand how the university addressed such issues.\n",
      "\n",
      "Overall, the content provides a comprehensive overview of UCLA's history and achievements, with some minor inaccuracies and areas that could be further elaborated for clarity and completeness.\n"
     ]
    }
   ],
   "source": [
    "# List of Wikipedia page titles to check\n",
    "page_titles = [\"Artificial Intelligence\", \"Machine Learning\", \"UCLA\"]\n",
    "\n",
    "# Loop over the page titles and check each one\n",
    "for page_title in page_titles:\n",
    "    print(f\"Checking {page_title}\")\n",
    "    try:\n",
    "        # Get the Wikipedia page content\n",
    "        text = get_wiki_content(page_title)\n",
    "        # Analyze the content for errors\n",
    "        correction = chatgpt_error_correction(text)\n",
    "        print(f\"Report for {page_title}:\")\n",
    "        print(correction)\n",
    "    except Exception as e:\n",
    "        print(f\"ERROR while checking {page_title}: {e}\")"
   ]
  },
  {
   "cell_type": "code",
   "execution_count": null,
   "metadata": {},
   "outputs": [],
   "source": []
  }
 ],
 "metadata": {
  "colab": {
   "provenance": []
  },
  "kernelspec": {
   "display_name": "Python 3 (ipykernel)",
   "language": "python",
   "name": "python3"
  },
  "language_info": {
   "codemirror_mode": {
    "name": "ipython",
    "version": 3
   },
   "file_extension": ".py",
   "mimetype": "text/x-python",
   "name": "python",
   "nbconvert_exporter": "python",
   "pygments_lexer": "ipython3",
   "version": "3.9.12"
  }
 },
 "nbformat": 4,
 "nbformat_minor": 1
}
